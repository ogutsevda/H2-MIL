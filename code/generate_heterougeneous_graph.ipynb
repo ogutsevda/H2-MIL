{
 "cells": [
  {
   "cell_type": "code",
   "execution_count": null,
   "metadata": {},
   "outputs": [],
   "source": [
    "import torch\n",
    "import torch.nn as nn\n",
    "import numpy as np\n",
    "import joblib\n",
    "from torch_geometric.data import Data"
   ]
  },
  {
   "cell_type": "code",
   "execution_count": null,
   "metadata": {},
   "outputs": [],
   "source": [
    "patient_and_stage = joblib.load(\"esca_patients_and_stage.pkl\")"
   ]
  },
  {
   "cell_type": "code",
   "execution_count": null,
   "metadata": {},
   "outputs": [],
   "source": [
    "len(patient_and_stage)"
   ]
  },
  {
   "cell_type": "code",
   "execution_count": null,
   "metadata": {},
   "outputs": [],
   "source": [
    "patient_and_stage['TCGA-LN-A4MR']"
   ]
  },
  {
   "cell_type": "code",
   "execution_count": null,
   "metadata": {},
   "outputs": [],
   "source": [
    "tmp_stage = []\n",
    "for x in patient_and_stage:\n",
    "    tmp_stage.append(patient_and_stage[x])\n",
    "print(set(tmp_stage))"
   ]
  },
  {
   "cell_type": "code",
   "execution_count": null,
   "metadata": {},
   "outputs": [],
   "source": [
    "patient_and_label = {}\n",
    "for x in patient_and_stage:\n",
    "    if patient_and_stage[x] in ['Stage III', 'Stage IIIB', 'Stage IIIC', 'Stage IV', 'Stage IVA', 'Stage IIIA']:\n",
    "        patient_and_label[x] = 1\n",
    "    elif patient_and_stage[x] in [ 'Stage IIB', 'Stage IA', 'Stage IB', 'Stage II', 'Stage I', 'Stage IIA']:\n",
    "        patient_and_label[x] = 0"
   ]
  },
  {
   "cell_type": "code",
   "execution_count": null,
   "metadata": {},
   "outputs": [],
   "source": [
    "patient_and_label['TCGA-LN-A4MR']"
   ]
  },
  {
   "cell_type": "code",
   "execution_count": null,
   "metadata": {},
   "outputs": [],
   "source": [
    "patients = []\n",
    "for x in patient_and_label:\n",
    "    patients.append(x)"
   ]
  },
  {
   "cell_type": "code",
   "execution_count": null,
   "metadata": {},
   "outputs": [],
   "source": [
    "no_sort_t_all_feature = joblib.load(\"esca_5x10x_kimianet_patch.pkl\")"
   ]
  },
  {
   "cell_type": "code",
   "execution_count": null,
   "metadata": {},
   "outputs": [],
   "source": [
    "#pretrain feature\n",
    "no_sort_t_all_feature['TCGA-LN-A4MR']['30-26.png']"
   ]
  },
  {
   "cell_type": "code",
   "execution_count": null,
   "metadata": {},
   "outputs": [],
   "source": [
    "t_all_feature = {}\n",
    "for x in patients:\n",
    "    feature = {}\n",
    "    for z in no_sort_t_all_feature[x]:\n",
    "        if z == '-1':\n",
    "            feature[z] = no_sort_t_all_feature[x][z]\n",
    "            \n",
    "    for z in no_sort_t_all_feature[x]:            \n",
    "        if len(z.split('-')) == 6:\n",
    "            feature[z] = no_sort_t_all_feature[x][z]\n",
    "        \n",
    "    for z in no_sort_t_all_feature[x]:            \n",
    "        if len(z.split('-')) == 2 and z != '-1':\n",
    "            feature[z] = no_sort_t_all_feature[x][z]\n",
    "        \n",
    "    t_all_feature[x] = feature\n"
   ]
  },
  {
   "cell_type": "code",
   "execution_count": null,
   "metadata": {},
   "outputs": [],
   "source": [
    "\"\"\"\n",
    "Thumbnail:\"-1\"\n",
    "5x:\"x1-x2-y1-y2-x-y\",x/y are the coordinates of the 5x node, and x1/x2/y1/y2 are the coordinates of the corresponding 10x node\n",
    "10x:\"x-y\"\n",
    "\"\"\"\n",
    "t_all_feature['TCGA-LN-A4MR']['-1']"
   ]
  },
  {
   "cell_type": "code",
   "execution_count": null,
   "metadata": {},
   "outputs": [],
   "source": [
    "#e.g. The coordinates of this 5x patch in 5x wsi are 17-14, and it consists of four patches with coordinates 34-28, 34-29, 35-28, 35-29 in 10x wsi .\n",
    "t_all_feature['TCGA-LN-A4MR']['34-35-28-29-17-14.png']"
   ]
  },
  {
   "cell_type": "code",
   "execution_count": null,
   "metadata": {},
   "outputs": [],
   "source": [
    "t_all_feature['TCGA-LN-A4MR']['24-23.png']"
   ]
  },
  {
   "cell_type": "code",
   "execution_count": null,
   "metadata": {},
   "outputs": [],
   "source": [
    "all_feature = {}\n",
    "for x in patients:\n",
    "    feature = []\n",
    "    for z in t_all_feature[x]:\n",
    "        if z == '-1':\n",
    "            feature.append(t_all_feature[x][z])\n",
    "    for z in t_all_feature[x]:            \n",
    "        if len(z.split('-')) == 6:\n",
    "            feature.append(t_all_feature[x][z])\n",
    "    for z in t_all_feature[x]:            \n",
    "        if len(z.split('-')) == 2 and z != '-1':\n",
    "            feature.append(t_all_feature[x][z])\n",
    "        \n",
    "    all_feature[x] = feature\n"
   ]
  },
  {
   "cell_type": "code",
   "execution_count": null,
   "metadata": {},
   "outputs": [],
   "source": [
    "all_feature['TCGA-LN-A4MR'][:5]"
   ]
  },
  {
   "cell_type": "code",
   "execution_count": null,
   "metadata": {},
   "outputs": [],
   "source": [
    "\n",
    "def get_edge_index_2(id):  \n",
    "    \n",
    "    start = []\n",
    "    end = []\n",
    "    \n",
    "    patch_id = {}\n",
    "    i=0\n",
    "    for x in t_all_feature[id]:\n",
    "        patch_id[x.split('.')[0]] = i\n",
    "        i+=1\n",
    "#     print(patch_id)\n",
    "\n",
    "    # Edges between nodes of different resolutions\n",
    "    for x in patch_id:\n",
    "        if len(x.split('-'))==6:\n",
    "            start.append(patch_id[x])\n",
    "            end.append(patch_id['-1'])\n",
    "            end.append(patch_id[x])\n",
    "            start.append(patch_id['-1']) \n",
    "            \n",
    "            if x.split('-')[0]+'-'+x.split('-')[2] in patch_id:\n",
    "                start.append(patch_id[x])\n",
    "                end.append(patch_id[x.split('-')[0]+'-'+x.split('-')[2]])\n",
    "                end.append(patch_id[x])\n",
    "                start.append(patch_id[x.split('-')[0]+'-'+x.split('-')[2]])                \n",
    "            if x.split('-')[1]+'-'+x.split('-')[2] in patch_id:                \n",
    "                start.append(patch_id[x])\n",
    "                end.append(patch_id[x.split('-')[1]+'-'+x.split('-')[2]]) \n",
    "                end.append(patch_id[x])\n",
    "                start.append(patch_id[x.split('-')[1]+'-'+x.split('-')[2]])             \n",
    "            if x.split('-')[0]+'-'+x.split('-')[3] in patch_id:            \n",
    "                start.append(patch_id[x])\n",
    "                end.append(patch_id[x.split('-')[0]+'-'+x.split('-')[3]])\n",
    "                end.append(patch_id[x])\n",
    "                start.append(patch_id[x.split('-')[0]+'-'+x.split('-')[3]])            \n",
    "            if x.split('-')[1]+'-'+x.split('-')[3] in patch_id:            \n",
    "                start.append(patch_id[x])\n",
    "                end.append(patch_id[x.split('-')[1]+'-'+x.split('-')[3]])\n",
    "                end.append(patch_id[x])\n",
    "                start.append(patch_id[x.split('-')[1]+'-'+x.split('-')[3]]) \n",
    "\n",
    "\n",
    "        \n",
    "    patch_id_5x = {}\n",
    "    for x in patch_id:\n",
    "        if len(x.split('-'))==6:\n",
    "            patch_id_5x[x.split('-')[-2]+'-'+x.split('-')[-1]] = patch_id[x]\n",
    "#     print(patch_id_5x)\n",
    "\n",
    "    #5x resolution edge between nodes\n",
    "    for x in patch_id:\n",
    "        if len(x.split('-'))==6:\n",
    "            i = int(x.split('-')[-2])\n",
    "            j = int(x.split('-')[-1])\n",
    "#             print(i,j)\n",
    "            if str(i)+'-'+str(j+1) in patch_id_5x:\n",
    "                start.append(patch_id_5x[str(i)+'-'+str(j)])\n",
    "                end.append(patch_id_5x[str(i)+'-'+str(j+1)])\n",
    "            if str(i)+'-'+str(j-1) in patch_id_5x:\n",
    "                start.append(patch_id_5x[str(i)+'-'+str(j)])\n",
    "                end.append(patch_id_5x[str(i)+'-'+str(j-1)])\n",
    "            if str(i+1)+'-'+str(j) in patch_id_5x:\n",
    "                start.append(patch_id_5x[str(i)+'-'+str(j)])\n",
    "                end.append(patch_id_5x[str(i+1)+'-'+str(j)])\n",
    "            if str(i-1)+'-'+str(j) in patch_id_5x:\n",
    "                start.append(patch_id_5x[str(i)+'-'+str(j)])\n",
    "                end.append(patch_id_5x[str(i-1)+'-'+str(j)])\n",
    "            if str(i+1)+'-'+str(j+1) in patch_id_5x:\n",
    "                start.append(patch_id_5x[str(i)+'-'+str(j)])\n",
    "                end.append(patch_id_5x[str(i+1)+'-'+str(j+1)])\n",
    "            if str(i-1)+'-'+str(j+1) in patch_id_5x:\n",
    "                start.append(patch_id_5x[str(i)+'-'+str(j)])\n",
    "                end.append(patch_id_5x[str(i-1)+'-'+str(j+1)])\n",
    "            if str(i+1)+'-'+str(j-1) in patch_id_5x:\n",
    "                start.append(patch_id_5x[str(i)+'-'+str(j)])\n",
    "                end.append(patch_id_5x[str(i+1)+'-'+str(j-1)])\n",
    "            if str(i-1)+'-'+str(j-1) in patch_id_5x:\n",
    "                start.append(patch_id_5x[str(i)+'-'+str(j)])\n",
    "                end.append(patch_id_5x[str(i-1)+'-'+str(j-1)])\n",
    "                \n",
    "    #10x resolution edge between nodes\n",
    "    for x in patch_id:\n",
    "        if len(x.split('-'))==2 and x!='-1':\n",
    "#             print(x)\n",
    "            i = int(x.split('-')[0])\n",
    "            j = int(x.split('-')[1])\n",
    "#             print(i,j)\n",
    "            if str(i)+'-'+str(j+1) in patch_id:\n",
    "                start.append(patch_id[str(i)+'-'+str(j)])\n",
    "                end.append(patch_id[str(i)+'-'+str(j+1)])\n",
    "            if str(i)+'-'+str(j-1) in patch_id:\n",
    "                start.append(patch_id[str(i)+'-'+str(j)])\n",
    "                end.append(patch_id[str(i)+'-'+str(j-1)])\n",
    "            if str(i+1)+'-'+str(j) in patch_id:\n",
    "                start.append(patch_id[str(i)+'-'+str(j)])\n",
    "                end.append(patch_id[str(i+1)+'-'+str(j)])\n",
    "            if str(i-1)+'-'+str(j) in patch_id:\n",
    "                start.append(patch_id[str(i)+'-'+str(j)])\n",
    "                end.append(patch_id[str(i-1)+'-'+str(j)])\n",
    "            if str(i+1)+'-'+str(j+1) in patch_id:\n",
    "                start.append(patch_id[str(i)+'-'+str(j)])\n",
    "                end.append(patch_id[str(i+1)+'-'+str(j+1)])\n",
    "            if str(i-1)+'-'+str(j+1) in patch_id:\n",
    "                start.append(patch_id[str(i)+'-'+str(j)])\n",
    "                end.append(patch_id[str(i-1)+'-'+str(j+1)])\n",
    "            if str(i+1)+'-'+str(j-1) in patch_id:\n",
    "                start.append(patch_id[str(i)+'-'+str(j)])\n",
    "                end.append(patch_id[str(i+1)+'-'+str(j-1)])\n",
    "            if str(i-1)+'-'+str(j-1) in patch_id:\n",
    "                start.append(patch_id[str(i)+'-'+str(j)])\n",
    "                end.append(patch_id[str(i-1)+'-'+str(j-1)])               \n",
    "                \n",
    "                  \n",
    "    \n",
    "#     print(start)\n",
    "#     print(end)\n",
    "    return [start,end]  "
   ]
  },
  {
   "cell_type": "code",
   "execution_count": null,
   "metadata": {},
   "outputs": [],
   "source": [
    "get_edge_index_2('TCGA-LN-A4MR')[0][:20],get_edge_index_2('TCGA-LN-A4MR')[1][:20]"
   ]
  },
  {
   "cell_type": "code",
   "execution_count": null,
   "metadata": {},
   "outputs": [],
   "source": [
    "all_node_type = {}\n",
    "for x in patients:\n",
    "    t = []   \n",
    "    for z in t_all_feature[x]:\n",
    "        if z == '-1':\n",
    "            t.append(0)\n",
    "    for z in t_all_feature[x]:            \n",
    "        if len(z.split('-')) == 6:\n",
    "            t.append(1)\n",
    "    for z in t_all_feature[x]:            \n",
    "        if len(z.split('-')) == 2 and z != '-1':\n",
    "            t.append(2)        \n",
    "      \n",
    "    all_node_type[x] = t"
   ]
  },
  {
   "cell_type": "code",
   "execution_count": null,
   "metadata": {},
   "outputs": [],
   "source": [
    "\"\"\"\n",
    "Thumbnail: 0\n",
    "5x: 1\n",
    "10x: 2\n",
    "\"\"\"\n",
    "np.array(all_node_type['TCGA-LN-A4MR'])"
   ]
  },
  {
   "cell_type": "code",
   "execution_count": null,
   "metadata": {},
   "outputs": [],
   "source": [
    "#The first node is the thumbnail, it has no parent, so it is set to -1.\n",
    "#The following nodes are 5 times, and their parent is the thumbnail, so the index is 0.\n",
    "#The last is 10 times, respectively, corresponding to their 5 times the index of the parent node.\n",
    "tree = {}\n",
    "for p_id in patients:\n",
    "    \n",
    "    t_tree = np.array([-2]*len(all_node_type[p_id]))\n",
    "    t_tree[np.where(np.array(all_node_type[p_id])==0)] = -1\n",
    "    t_tree[np.where(np.array(all_node_type[p_id])==1)] = np.where(np.array(all_node_type[p_id])==0)[0][0]\n",
    "#     print(t_tree)\n",
    "    \n",
    "    patch_id = {}\n",
    "    i=0\n",
    "    for x in t_all_feature[p_id]:\n",
    "        patch_id[x.split('.')[0]] = i\n",
    "        i+=1\n",
    "#     print(patch_id)\n",
    "\n",
    "    for x in patch_id:\n",
    "        if len(x.split('-'))==6:\n",
    "            if x.split('-')[0]+'-'+x.split('-')[2] in patch_id:\n",
    "                t_tree[patch_id[x.split('-')[0]+'-'+x.split('-')[2]]] =  patch_id[x]           \n",
    "            if x.split('-')[1]+'-'+x.split('-')[2] in patch_id:                \n",
    "                t_tree[patch_id[x.split('-')[1]+'-'+x.split('-')[2]]] =  patch_id[x]              \n",
    "            if x.split('-')[0]+'-'+x.split('-')[3] in patch_id:            \n",
    "                t_tree[patch_id[x.split('-')[0]+'-'+x.split('-')[3]]] =  patch_id[x]            \n",
    "            if x.split('-')[1]+'-'+x.split('-')[3] in patch_id:            \n",
    "                t_tree[patch_id[x.split('-')[1]+'-'+x.split('-')[3]]] =  patch_id[x]   \n",
    "    \n",
    "\n",
    "    tree[p_id] = t_tree\n",
    "#     break"
   ]
  },
  {
   "cell_type": "code",
   "execution_count": null,
   "metadata": {
    "scrolled": true
   },
   "outputs": [],
   "source": [
    "tree['TCGA-LN-A4MR']"
   ]
  },
  {
   "cell_type": "code",
   "execution_count": null,
   "metadata": {},
   "outputs": [],
   "source": [
    "#Record the coordinates of each patch.\n",
    "x_y = {}\n",
    "for x in patients:\n",
    "    dd = []\n",
    "    for z in t_all_feature[x]:\n",
    "        if z == '-1':\n",
    "            dd.append((0,0))\n",
    "            \n",
    "    for z in t_all_feature[x]:            \n",
    "        if len(z.split('-')) == 6:\n",
    "            dd.append((float(z.split('-')[-2]),float(z.split('-')[-1].split('.')[0])))\n",
    "        \n",
    "    for z in t_all_feature[x]:            \n",
    "        if len(z.split('-')) == 2 and z != '-1':\n",
    "            dd.append((float(z.split('-')[0]),float(z.split('-')[1].split('.')[0])))\n",
    "        \n",
    "    x_y[x] = dd\n"
   ]
  },
  {
   "cell_type": "code",
   "execution_count": null,
   "metadata": {},
   "outputs": [],
   "source": [
    "#Get the maximum value of the coordinates for the next step of normalization.\n",
    "max_x_y_5x = {}\n",
    "max_x_y_10x = {}\n",
    "for p_id in patients:\n",
    "    x=[]\n",
    "    y=[]\n",
    "    for z in np.array(x_y[p_id])[np.where(np.array(all_node_type[p_id])==1)]:\n",
    "        x.append(z[0])\n",
    "        y.append(z[1])\n",
    "    max_x_y_5x[p_id] = [np.max(np.array(x)),np.max(np.array(y))]\n",
    "    \n",
    "    x=[]\n",
    "    y=[]\n",
    "    for z in np.array(x_y[p_id])[np.where(np.array(all_node_type[p_id])==2)]:\n",
    "        x.append(z[0])\n",
    "        y.append(z[1])\n",
    "    max_x_y_10x[p_id] = [np.max(np.array(x)),np.max(np.array(y))]    \n",
    "    "
   ]
  },
  {
   "cell_type": "code",
   "execution_count": null,
   "metadata": {},
   "outputs": [],
   "source": [
    "#Normalize.\n",
    "x_y = {}\n",
    "for x in patients:\n",
    "    dd = []\n",
    "    for z in t_all_feature[x]:\n",
    "        if z == '-1':\n",
    "            dd.append((0,0))\n",
    "            \n",
    "    for z in t_all_feature[x]:            \n",
    "        if len(z.split('-')) == 6:\n",
    "            dd.append((float(z.split('-')[-2])/max_x_y_5x[x][0],float(z.split('-')[-1].split('.')[0])/max_x_y_5x[x][1]))\n",
    "        \n",
    "    for z in t_all_feature[x]:            \n",
    "        if len(z.split('-')) == 2 and z != '-1':\n",
    "            dd.append((float(z.split('-')[0])/max_x_y_10x[x][0],float(z.split('-')[1].split('.')[0])/max_x_y_10x[x][1]))\n",
    "        \n",
    "    x_y[x] = dd\n"
   ]
  },
  {
   "cell_type": "code",
   "execution_count": null,
   "metadata": {},
   "outputs": [],
   "source": [
    "#x_y records the normalized relative position coordinates of all nodes in each heterogeneous graph.\n",
    "x_y['TCGA-LN-A4MR'][:5]"
   ]
  },
  {
   "cell_type": "code",
   "execution_count": null,
   "metadata": {},
   "outputs": [],
   "source": [
    "\n",
    "all_data = {}\n",
    "for id in patients:\n",
    "    print(id)\n",
    "    node_attr=torch.tensor(all_feature[id],dtype=torch.float)\n",
    "    edge_index_tree_8nb = torch.tensor(get_edge_index_2(id),dtype=torch.long) \n",
    "    batch = torch.tensor([0 for i in range(len(node_attr))])\n",
    "    node_type = torch.tensor(all_node_type[id])\n",
    "    node_tree = torch.tensor(tree[id])\n",
    "    x_y_index = torch.tensor(x_y[id])\n",
    "    data_id = id \n",
    "    data=Data(x=node_attr,edge_index_tree_8nb=edge_index_tree_8nb,data_id=data_id,batch =batch,node_type=node_type,node_tree=node_tree,x_y_index=x_y_index) \n",
    "    all_data[id] = data\n",
    "#     print(data)\n",
    "    "
   ]
  },
  {
   "cell_type": "code",
   "execution_count": null,
   "metadata": {},
   "outputs": [],
   "source": [
    "all_data['TCGA-LN-A4MR']"
   ]
  },
  {
   "cell_type": "code",
   "execution_count": null,
   "metadata": {},
   "outputs": [],
   "source": [
    "# joblib.dump(all_data,'esca_5x10x_tree_8nb_gnn_data.pkl')"
   ]
  },
  {
   "cell_type": "code",
   "execution_count": null,
   "metadata": {},
   "outputs": [],
   "source": []
  },
  {
   "cell_type": "code",
   "execution_count": null,
   "metadata": {},
   "outputs": [],
   "source": []
  },
  {
   "cell_type": "code",
   "execution_count": null,
   "metadata": {},
   "outputs": [],
   "source": []
  }
 ],
 "metadata": {
  "kernelspec": {
   "display_name": "Python 3",
   "language": "python",
   "name": "python3"
  },
  "language_info": {
   "codemirror_mode": {
    "name": "ipython",
    "version": 3
   },
   "file_extension": ".py",
   "mimetype": "text/x-python",
   "name": "python",
   "nbconvert_exporter": "python",
   "pygments_lexer": "ipython3",
   "version": "3.10.12"
  }
 },
 "nbformat": 4,
 "nbformat_minor": 4
}
